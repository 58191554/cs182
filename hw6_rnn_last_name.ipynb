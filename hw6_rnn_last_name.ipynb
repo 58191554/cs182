{
  "cells": [
    {
      "cell_type": "markdown",
      "metadata": {
        "id": "view-in-github",
        "colab_type": "text"
      },
      "source": [
        "<a href=\"https://colab.research.google.com/github/58191554/cs182/blob/main/hw6_rnn_last_name.ipynb\" target=\"_parent\"><img src=\"https://colab.research.google.com/assets/colab-badge.svg\" alt=\"Open In Colab\"/></a>"
      ]
    },
    {
      "cell_type": "markdown",
      "metadata": {
        "id": "If9lm7lMHJXF"
      },
      "source": [
        "# RNN for Last Name Classification\n",
        "\n",
        "Welcome to this assignment where you will train a neural network to predict the probable language of origin for a given last name / family name in Latin alphabets.\n",
        "\n",
        "Throughout this task, you will gain expertise in the following areas:\n",
        "\n",
        "- Preprocessing raw text data for suitable input into an RNN and (Optionally) LSTM.\n",
        "- Utilizing PyTorch to train your recurrent neural network models.\n",
        "- Evaluating your model's performance and making predictions on unseen data.\n",
        "\n",
        "LSTM is out-of-scope this semester and will not be covered in the exams.\n"
      ]
    },
    {
      "cell_type": "markdown",
      "metadata": {
        "id": "cYiXOrhqHJXH"
      },
      "source": [
        "## Download Data"
      ]
    },
    {
      "cell_type": "code",
      "execution_count": null,
      "metadata": {
        "id": "rbLbWJ4PHJXH",
        "colab": {
          "base_uri": "https://localhost:8080/"
        },
        "outputId": "fb4c2f0a-0c0b-47b0-cf86-880332b339a4"
      },
      "outputs": [
        {
          "output_type": "stream",
          "name": "stdout",
          "text": [
            "--2023-03-10 04:53:09--  https://download.pytorch.org/tutorial/data.zip\n",
            "Resolving download.pytorch.org (download.pytorch.org)... 99.86.38.72, 99.86.38.106, 99.86.38.37, ...\n",
            "Connecting to download.pytorch.org (download.pytorch.org)|99.86.38.72|:443... connected.\n",
            "HTTP request sent, awaiting response... 200 OK\n",
            "Length: 2882130 (2.7M) [application/zip]\n",
            "Saving to: ‘data.zip’\n",
            "\n",
            "\rdata.zip              0%[                    ]       0  --.-KB/s               \rdata.zip            100%[===================>]   2.75M  --.-KB/s    in 0.1s    \n",
            "\n",
            "2023-03-10 04:53:10 (19.7 MB/s) - ‘data.zip’ saved [2882130/2882130]\n",
            "\n",
            "Archive:  data.zip\n",
            "   creating: data/\n",
            "  inflating: data/eng-fra.txt        \n",
            "   creating: data/names/\n",
            "  inflating: data/names/Arabic.txt   \n",
            "  inflating: data/names/Chinese.txt  \n",
            "  inflating: data/names/Czech.txt    \n",
            "  inflating: data/names/Dutch.txt    \n",
            "  inflating: data/names/English.txt  \n",
            "  inflating: data/names/French.txt   \n",
            "  inflating: data/names/German.txt   \n",
            "  inflating: data/names/Greek.txt    \n",
            "  inflating: data/names/Irish.txt    \n",
            "  inflating: data/names/Italian.txt  \n",
            "  inflating: data/names/Japanese.txt  \n",
            "  inflating: data/names/Korean.txt   \n",
            "  inflating: data/names/Polish.txt   \n",
            "  inflating: data/names/Portuguese.txt  \n",
            "  inflating: data/names/Russian.txt  \n",
            "  inflating: data/names/Scottish.txt  \n",
            "  inflating: data/names/Spanish.txt  \n",
            "  inflating: data/names/Vietnamese.txt  \n"
          ]
        }
      ],
      "source": [
        "import os\n",
        "\n",
        "if not os.path.exists(\"data\"):\n",
        "    !wget https://download.pytorch.org/tutorial/data.zip\n",
        "    !unzip data"
      ]
    },
    {
      "cell_type": "markdown",
      "metadata": {
        "id": "L-Q0QZznHJXI"
      },
      "source": [
        "## Library imports"
      ]
    },
    {
      "cell_type": "markdown",
      "metadata": {
        "id": "bjCFIe6_HJXJ"
      },
      "source": [
        "Before starting, make sure you have all these libraries."
      ]
    },
    {
      "cell_type": "code",
      "execution_count": null,
      "metadata": {
        "id": "7lxC0M8PHJXJ"
      },
      "outputs": [],
      "source": [
        "root_folder = \"\"\n",
        "import os\n",
        "import sys\n",
        "import inspect\n",
        "sys.path.append(root_folder)\n",
        "from collections import Counter\n",
        "import torch\n",
        "from torch import nn\n",
        "import torch.nn.functional as F\n",
        "import torch.optim as optim\n",
        "from tqdm import tqdm\n",
        "\n",
        "import random\n",
        "import numpy as np\n",
        "import json\n",
        "\n",
        "import matplotlib.pyplot as plt\n",
        "# from utils import validate_to_array\n",
        "\n",
        "device = torch.device(\"cuda\" if torch.cuda.is_available() else \"cpu\")\n",
        "\n",
        "import IPython\n",
        "from ipywidgets import interactive, widgets, Layout\n",
        "from IPython.display import display, HTML"
      ]
    },
    {
      "cell_type": "code",
      "execution_count": null,
      "metadata": {
        "id": "HKevVtzDHJXJ"
      },
      "outputs": [],
      "source": [
        "%load_ext autoreload\n",
        "%autoreload 2"
      ]
    },
    {
      "cell_type": "markdown",
      "metadata": {
        "id": "cYVKa7sxHJXJ"
      },
      "source": [
        "## Implement the Neural Network"
      ]
    },
    {
      "cell_type": "markdown",
      "metadata": {
        "id": "tTaOVWf1HJXK"
      },
      "source": [
        "The main objective of this task is to predict the probability of a given class given a last name, represented as\n",
        "\n",
        "$$ \\Pr ( y | x_1, x_2, x_3, ..., x_i),$$\n",
        "\n",
        "where $y$ is the category label and each $x_i$ is a character in the last name. Building a basic character-level NLP model has the advantage of understanding how the preprocessing works at a granular level. The character-level network reads words as a sequence of characters, producing a prediction and \"hidden state\" at each step by feeding its previous hidden state into the next step. The final prediction corresponds to the class to which the word belongs.\n",
        "\n",
        "All models in PyTorch inherit from the nn.Module subclass. In this assignment, you will **implement a custom model named `RecurrentClassifier`** that runs either [nn.RNN](https://pytorch.org/docs/stable/generated/torch.nn.RNN.html) or [nn.LSTM](https://pytorch.org/docs/stable/generated/torch.nn.LSTM.html) and define its forward function. The implementation of LSTMs is *optional*.\n",
        "\n",
        "The forward pass of the model can be visualized with the following diagram:\n",
        "\n",
        "```\n",
        "[Embedding] -> [RNN Stack] -> [Extract Last Position] -> [Classifier]\n",
        "```\n",
        "\n",
        "- **Embedding:** This component maps each input word (integer) to a vector of real numbers.\n",
        "    - Input: `[batch_size, seq_len]`\n",
        "    - Output: `[batch_size, seq_len, rnn_size]`\n",
        "- **RNN Stack:** This component consists of one or more RNN layers, which process the input sequence of vectors from the Embedding component.\n",
        "    - Input: `[batch_size, seq_len, rnn_size]`\n",
        "    - Output: `[batch_size, seq_len, rnn_size]`\n",
        "- **Extract Last Position:** The RNN Stack component returns a sequence of vectors for each input example. However, for classification purposes, we only need a single vector that captures the full information of the input example. Since the RNN is left-to-right by default, the output state vector at the last position contains the full information of the input example. Therefore, for the $i$-th input example, we extract the output state vector at the last *non-pad* position, which is indicated by `last_pos[i]`.\n",
        "    - Input: `[batch_size, seq_len, rnn_size]`\n",
        "    - Output: `[batch_size, rnn_size]`\n",
        "- **Classifier:** This component is a fully-connected layer that maps the output vectors extracted in the previous step to logits (scores before softmax), which can be used to make predictions about the language of origin for each input example.\n",
        "    - Input: `[batch_size, rnn_size]`\n",
        "    - Output: `[batch_size, n_categories]`\n",
        "\n",
        "\n",
        "These documents would be helpful in this part:\n",
        "\n",
        "- https://pytorch.org/docs/stable/generated/torch.nn.Embedding.html\n",
        "- https://pytorch.org/docs/stable/generated/torch.nn.RNN.html\n",
        "- https://pytorch.org/docs/stable/generated/torch.gather.html\n",
        "- https://pytorch.org/docs/stable/generated/torch.Tensor.expand.html\n",
        "- https://pytorch.org/docs/stable/generated/torch.Tensor.view.html"
      ]
    },
    {
      "cell_type": "code",
      "execution_count": null,
      "metadata": {
        "id": "1FsQ8zGpHJXK"
      },
      "outputs": [],
      "source": [
        "class RecurrentClassifier(nn.Module):\n",
        "    def __init__(\n",
        "        self,\n",
        "        vocab_size: int,\n",
        "        rnn_size: int,\n",
        "        n_categories: int,\n",
        "        num_layers: int = 1,\n",
        "        dropout: float = 0.0,\n",
        "        model_type: str = 'lstm'\n",
        "    ):\n",
        "        super().__init__()\n",
        "        self.rnn_size = rnn_size\n",
        "        self.model_type = model_type\n",
        "        self.num_layers = num_layers\n",
        "        self.n_categories = n_categories\n",
        "\n",
        "        ########################################################################\n",
        "        # TODO: Create an embedding layer of shape [vocab_size, rnn_size]\n",
        "        #\n",
        "        # Hint: Use nn.Embedding\n",
        "        # https://pytorch.org/docs/stable/generated/torch.nn.Embedding.html\n",
        "        # It will map each word into a vector of shape [rnn_size]\n",
        "        ########################################################################\n",
        "        self.embedding = nn.Embedding(vocab_size, rnn_size)\n",
        "        ########################################################################\n",
        "\n",
        "        ########################################################################\n",
        "        # TODO: Create a RNN stack with `num_layers` layers with tanh\n",
        "        #       nonlinearity. Between each layers, there is a dropout of\n",
        "        #       `dropout`. Implement it with a *single* call to `torch.nn` APIs\n",
        "        # \n",
        "        # Hint: See documentations at\n",
        "        # https://pytorch.org/docs/stable/generated/torch.nn.RNN.html\n",
        "        # Set the arguments to call `nn.RNN` such that:\n",
        "        # - The shape of the input is [batch_size, seq_len, rnn_size]\n",
        "        # - The shape of the output should be [batch_size, seq_len, rnn_size]\n",
        "        # Make sure that the dimension ordering is correct. One of the argument\n",
        "        #   in the constructor of `nn.RNN` (or `nn.LSTM`) is helpful here\n",
        "        #\n",
        "        # Optional: Implement one LSTM layer when `model_type` is `lstm`\n",
        "        ########################################################################\n",
        "        if model_type == 'lstm':\n",
        "            self.lstm = NotImplementedError()\n",
        "        elif model_type == 'rnn':\n",
        "            self.rnn = nn.RNN(self.rnn_size, self.rnn_size, self.num_layers, dropout = dropout, batch_first=True)\n",
        "        ########################################################################\n",
        "\n",
        "        ########################################################################\n",
        "        # TODO: Implement one dropout layer and the fully-connected classifier\n",
        "        #       layer\n",
        "        #\n",
        "        # Hint: We add a dropout layer because neither nn.RNN nor nn.LSTM\n",
        "        #   implements dropout after the last layer in the stack.\n",
        "        # Since the input to the classifier is the output of the last position\n",
        "        #   of the RNN's final layer, it has a shape of [batch_size, rnn_size].\n",
        "        # The expected output should be logits, which correspond to scores\n",
        "        #   before applying softmax, and should have a shape of\n",
        "        #   [batch_size, n_categories].\n",
        "        ########################################################################\n",
        "        self.drop = nn.Dropout(p=dropout)\n",
        "        self.output = nn.Linear(self.rnn_size, self.n_categories)\n",
        "        ########################################################################\n",
        "\n",
        "    def forward(self, x: torch.Tensor, last_pos: torch.Tensor) -> torch.Tensor:\n",
        "        \"\"\"\n",
        "        x: integer tensor of shape [batch_size, seq_len]\n",
        "        last_pos: integer tensor of shape [batch_size]\n",
        "        \n",
        "        The input tensor `x` is composed of a batch of sequences, where each\n",
        "        sequence contains indices corresponding to characters. As sequences\n",
        "        within the same batch may have different lengths, shorter sequences are\n",
        "        padded on the right side to match the maximum sequence length of the\n",
        "        batch, which is represented by `seq_len`.\n",
        "        \n",
        "        Additionally, the `last_pos` tensor records the position of the last\n",
        "        character in each sequence. For instance, the first sequence in the\n",
        "        batch can be represented as `[x[0, 0], x[0, 1], ..., x[0, last_pos[0]]`.\n",
        "        `last_pos` is useful when extracting the output state associated with\n",
        "        each sequence from the RNNs.\n",
        "        \"\"\"\n",
        "        embeds = self.embedding(x)\n",
        "        if self.model_type == 'lstm':\n",
        "            rnn_out, _ = self.lstm(embeds)\n",
        "        else:\n",
        "            rnn_out, _ = self.rnn(embeds)\n",
        "        \n",
        "        ########################################################################\n",
        "        # TODO: Retrieve the output state associated with each sequence\n",
        "        #\n",
        "        # Hints:\n",
        "        # - The output state of all positions is returned by the RNN stack,\n",
        "        #   but we only need the state in the last position for classification\n",
        "        #   - The shape of `rnn_out` is [batch_size, seq_len, rnn_size]\n",
        "        #   - The expected shape of `out` is [batch_size, rnn_size]\n",
        "        # - For the i-th sequence, we have out[i] == rnn_out[i, last_pos[i]]\n",
        "        # - Try to condense your code into a single line, without using any\n",
        "        #   loops. However, if you find it too challenging to do so, you may use\n",
        "        #   a single layer of for-loop.\n",
        "        ########################################################################\n",
        "        # print(last_pos)\n",
        "        # print(\"rnn_out.is_cuda:\", rnn_out.is_cuda)\n",
        "        batch_size = rnn_out.shape[0]\n",
        "        out = torch.zeros((batch_size, self.rnn_size))\n",
        "        for i in range(batch_size):\n",
        "            out[i] = rnn_out[i, last_pos[i]]\n",
        "        out = out.cuda() if rnn_out.is_cuda else out.cpu()\n",
        "        ########################################################################\n",
        "\n",
        "        out = self.drop(out)\n",
        "        logits = self.output(out)\n",
        "        return logits\n"
      ]
    },
    {
      "cell_type": "markdown",
      "metadata": {
        "id": "kaFLdZBFHJXL"
      },
      "source": [
        "After completing your implementation, ensure that it passes the following tests. If your implementation fails some tests, but you believe that your implementation is correct, please post the error message along with a brief description on Ed. Please refrain from posting your actual code on Ed."
      ]
    },
    {
      "cell_type": "code",
      "execution_count": null,
      "metadata": {
        "id": "WVsAcSrIHJXM"
      },
      "outputs": [],
      "source": [
        "seed = 227\n",
        "random.seed(seed)\n",
        "np.random.seed(seed)\n",
        "torch.manual_seed(seed)\n",
        "model = RecurrentClassifier(11, 13, 17, 2, 0.1, 'rnn')"
      ]
    },
    {
      "cell_type": "code",
      "execution_count": null,
      "metadata": {
        "id": "srkTQ4sJHJXM"
      },
      "outputs": [],
      "source": [
        "assert list(model.state_dict().keys()) == ['embedding.weight',\n",
        " 'rnn.weight_ih_l0',\n",
        " 'rnn.weight_hh_l0',\n",
        " 'rnn.bias_ih_l0',\n",
        " 'rnn.bias_hh_l0',\n",
        " 'rnn.weight_ih_l1',\n",
        " 'rnn.weight_hh_l1',\n",
        " 'rnn.bias_ih_l1',\n",
        " 'rnn.bias_hh_l1',\n",
        " 'output.weight',\n",
        " 'output.bias']\n",
        "assert model.embedding.weight.shape == torch.Size([11, 13])\n",
        "assert (\n",
        "    model.rnn.weight_ih_l0.shape\n",
        "    == model.rnn.weight_hh_l0.shape\n",
        "    == model.rnn.weight_ih_l1.shape\n",
        "    == model.rnn.weight_hh_l1.shape\n",
        "    == torch.Size([13, 13])\n",
        ")\n",
        "assert (\n",
        "    model.rnn.bias_ih_l0.shape\n",
        "    == model.rnn.bias_hh_l0.shape\n",
        "    == model.rnn.bias_ih_l1.shape\n",
        "    == model.rnn.bias_hh_l1.shape\n",
        "    == torch.Size([13])\n",
        ")\n",
        "assert model.output.weight.shape == torch.Size([17, 13])\n",
        "assert model.output.bias.shape == torch.Size([17])"
      ]
    },
    {
      "cell_type": "code",
      "execution_count": null,
      "metadata": {
        "id": "WDFIwxokHJXM"
      },
      "outputs": [],
      "source": [
        "x = torch.arange(20).view(5, 4) % 11\n",
        "last_pos = torch.tensor([2, 3, 1, 2, 3])\n",
        "seed = 1025\n",
        "random.seed(seed)\n",
        "np.random.seed(seed)\n",
        "torch.manual_seed(seed)\n",
        "logits = model(x, last_pos)\n",
        "assert logits.shape == torch.Size([5, 17])\n",
        "assert torch.allclose(\n",
        "    logits.view(-1)[40:45],\n",
        "    torch.tensor(\n",
        "        [\n",
        "            -0.27393126487731934,\n",
        "            0.28421181440353394,\n",
        "            0.2342953234910965,\n",
        "            0.23580458760261536,\n",
        "            0.06812290847301483\n",
        "        ],\n",
        "        dtype=torch.float\n",
        "    )\n",
        ")\n",
        "\n",
        "model.zero_grad()\n",
        "logits.sum().backward()\n",
        "assert torch.allclose(\n",
        "    model.rnn.weight_hh_l0.grad.view(-1)[40:45],\n",
        "    torch.tensor(\n",
        "        [\n",
        "            -0.9424352645874023,\n",
        "            -0.488606333732605,\n",
        "            0.6905138492584229,\n",
        "            -0.0017577260732650757,\n",
        "            1.1024625301361084\n",
        "        ],\n",
        "        dtype=torch.float\n",
        "    )\n",
        ")"
      ]
    },
    {
      "cell_type": "markdown",
      "metadata": {
        "id": "g_CAeB-QHJXM"
      },
      "source": [
        "## Preprocess the dataset\n",
        "\n",
        "The [dataset](https://pytorch.org/tutorials/intermediate/char_rnn_classification_tutorial.html) contains a few thousand surnames from 18 languages of origin. Included in the data/names directory are 18 text files named as \"[Language].txt\". Each file contains a bunch of names, one name per line, mostly romanized (but we still need to convert from Unicode to ASCII).\n",
        "\n",
        "We'll end up with a dictionary of lists of names per language, {language: [names ...]}.\n",
        "\n",
        "\n"
      ]
    },
    {
      "cell_type": "code",
      "execution_count": null,
      "metadata": {
        "id": "I0Nig_LCHJXM",
        "colab": {
          "base_uri": "https://localhost:8080/"
        },
        "outputId": "4f4e779e-e38a-4750-ac31-3675a754b575"
      },
      "outputs": [
        {
          "output_type": "stream",
          "name": "stdout",
          "text": [
            "The normalized form of Ślusàrski is Slusarski\n"
          ]
        }
      ],
      "source": [
        "from __future__ import unicode_literals, print_function, division\n",
        "from io import open\n",
        "import glob\n",
        "import os\n",
        "\n",
        "def findFiles(path): return glob.glob(path)\n",
        "\n",
        "assert findFiles('data/names/*.txt'), \"Data not found!\"\n",
        "\n",
        "import unicodedata\n",
        "import string\n",
        "\n",
        "all_letters = string.ascii_letters + \" .,;'\"\n",
        "n_letters = len(all_letters)\n",
        "\n",
        "# Turn a Unicode string to plain ASCII, thanks to https://stackoverflow.com/a/518232/2809427\n",
        "def unicodeToAscii(s):\n",
        "    return ''.join(\n",
        "        c for c in unicodedata.normalize('NFD', s)\n",
        "        if unicodedata.category(c) != 'Mn'\n",
        "        and c in all_letters\n",
        "    )\n",
        "\n",
        "print(\"The normalized form of\", 'Ślusàrski', \"is\", unicodeToAscii('Ślusàrski'))\n",
        "\n",
        "# Build the category_lines dictionary, a list of names per language\n",
        "category_lines = {}\n",
        "all_categories = []\n",
        "\n",
        "# Read a file and split into lines\n",
        "def readLines(filename):\n",
        "    lines = open(filename, encoding='utf-8').read().strip().split('\\n')\n",
        "    return [unicodeToAscii(line) for line in lines]\n",
        "\n",
        "for filename in findFiles('data/names/*.txt'):\n",
        "    category = os.path.splitext(os.path.basename(filename))[0]\n",
        "    all_categories.append(category)\n",
        "    lines = readLines(filename)\n",
        "    category_lines[category] = lines\n",
        "\n",
        "n_categories = len(all_categories)"
      ]
    },
    {
      "cell_type": "code",
      "execution_count": null,
      "metadata": {
        "id": "H8GP_itlHJXN",
        "colab": {
          "base_uri": "https://localhost:8080/"
        },
        "outputId": "4b59d29c-73d5-4b17-a994-c70d1ef41707"
      },
      "outputs": [
        {
          "output_type": "stream",
          "name": "stdout",
          "text": [
            "['Abandonato', 'Abatangelo', 'Abatantuono', 'Abate', 'Abategiovanni']\n"
          ]
        }
      ],
      "source": [
        "print(category_lines['Italian'][:5])"
      ]
    },
    {
      "cell_type": "code",
      "execution_count": null,
      "metadata": {
        "id": "oUFn6UU_HJXN",
        "colab": {
          "base_uri": "https://localhost:8080/",
          "height": 35
        },
        "outputId": "e2419402-30ee-4ac4-b97e-41b6211163c5"
      },
      "outputs": [
        {
          "output_type": "execute_result",
          "data": {
            "text/plain": [
              "\"abcdefghijklmnopqrstuvwxyzABCDEFGHIJKLMNOPQRSTUVWXYZ .,;'\""
            ],
            "application/vnd.google.colaboratory.intrinsic+json": {
              "type": "string"
            }
          },
          "metadata": {},
          "execution_count": 10
        }
      ],
      "source": [
        "all_letters"
      ]
    },
    {
      "cell_type": "markdown",
      "metadata": {
        "id": "sMqzGN5WHJXN"
      },
      "source": [
        "**Implement the function to encode a letter to an integer:**"
      ]
    },
    {
      "cell_type": "code",
      "execution_count": null,
      "metadata": {
        "id": "R3g0fnK0HJXN"
      },
      "outputs": [],
      "source": [
        "def letterToIndex(letter):\n",
        "    ############################################################################\n",
        "    # TODO: implement the function to map a letter (a character) into its index\n",
        "    #       in `all_letters`\n",
        "    #\n",
        "    # e.g. letterToIndex(\"a\") == 0\n",
        "    # Don't worry about efficiency here\n",
        "    ############################################################################\n",
        "    return all_letters.index(letter)\n",
        "    ############################################################################\n",
        "\n",
        "assert letterToIndex(\"a\") == 0\n",
        "assert letterToIndex(\"'\") == 56"
      ]
    },
    {
      "cell_type": "code",
      "execution_count": null,
      "metadata": {
        "id": "CMv8--hsHJXO"
      },
      "outputs": [],
      "source": [
        "# For labels, we must have numbers instead of a string. These dictionaries convert\n",
        "# between these two ways of representing the labels.\n",
        "num_to_cat = dict(enumerate(category_lines.keys()))\n",
        "cat_to_num = dict((v,k) for k,v in num_to_cat.items())\n",
        "\n",
        "pad = 57 # this is the next available character \n",
        "vocab_size = 58 # number of characters used in total"
      ]
    },
    {
      "cell_type": "code",
      "execution_count": null,
      "metadata": {
        "id": "44kherCcHJXO"
      },
      "outputs": [],
      "source": [
        "def build_data():\n",
        "  '''\n",
        "  category_lines: a dictionary of lists of names per language, {language: [names ...]}. \n",
        "\n",
        "  We want to translate our dictionary into a dataset that has one entry per name. \n",
        "  Each datapoint is a 3-tuple consisting of: \n",
        "  - x: a length-19 array with each character in the name as an element,\n",
        "   padded with zeros at the end if the name is less than 19 characters.\n",
        "  - y: the numerical representation of the language the name corresponds to.\n",
        "  - index: the index of the last non-pad token\n",
        "  '''\n",
        "  data = []\n",
        "  for cat in category_lines:\n",
        "    for name in category_lines[cat]:\n",
        "      token = np.ones(19, dtype=np.int64) * pad\n",
        "      numerized = np.array([letterToIndex(l) for l in name])\n",
        "      n = len(numerized)\n",
        "      token[:n] = numerized\n",
        "      data.append((token, cat_to_num[cat], n-1))\n",
        "  return data"
      ]
    },
    {
      "cell_type": "code",
      "execution_count": null,
      "metadata": {
        "id": "aHqJa0HeHJXO"
      },
      "outputs": [],
      "source": [
        "data = build_data()\n",
        "seed = 227\n",
        "random.seed(seed)\n",
        "np.random.seed(seed)\n",
        "torch.manual_seed(seed)\n",
        "random.shuffle(data)"
      ]
    },
    {
      "cell_type": "code",
      "execution_count": null,
      "metadata": {
        "id": "L_brfAzBHJXO"
      },
      "outputs": [],
      "source": [
        "n_train = int(len(data) * 0.8)\n",
        "train_data = data[:n_train]\n",
        "test_data = data[n_train:]"
      ]
    },
    {
      "cell_type": "code",
      "execution_count": null,
      "metadata": {
        "id": "ONtOMYsYHJXO",
        "colab": {
          "base_uri": "https://localhost:8080/"
        },
        "outputId": "d940c854-5bac-4a50-f8c2-49f6f378cb0d"
      },
      "outputs": [
        {
          "output_type": "execute_result",
          "data": {
            "text/plain": [
              "16059"
            ]
          },
          "metadata": {},
          "execution_count": 16
        }
      ],
      "source": [
        "len(train_data)"
      ]
    },
    {
      "cell_type": "code",
      "execution_count": null,
      "metadata": {
        "id": "K-eQDKsaHJXO",
        "colab": {
          "base_uri": "https://localhost:8080/"
        },
        "outputId": "2977f26b-6870-4190-b4f4-9339825e3e62"
      },
      "outputs": [
        {
          "output_type": "execute_result",
          "data": {
            "text/plain": [
              "(array([31,  4,  3, 14, 19, 14, 21, 57, 57, 57, 57, 57, 57, 57, 57, 57, 57,\n",
              "        57, 57]), 17, 6)"
            ]
          },
          "metadata": {},
          "execution_count": 17
        }
      ],
      "source": [
        "train_data[0]"
      ]
    },
    {
      "cell_type": "code",
      "execution_count": null,
      "metadata": {
        "id": "rf-sPHBuHJXO",
        "colab": {
          "base_uri": "https://localhost:8080/"
        },
        "outputId": "d284873c-9264-49a3-a2fc-1b8f87ba89e2"
      },
      "outputs": [
        {
          "output_type": "execute_result",
          "data": {
            "text/plain": [
              "4015"
            ]
          },
          "metadata": {},
          "execution_count": 18
        }
      ],
      "source": [
        "len(test_data)"
      ]
    },
    {
      "cell_type": "code",
      "execution_count": null,
      "metadata": {
        "id": "KShxM9oGHJXP",
        "colab": {
          "base_uri": "https://localhost:8080/"
        },
        "outputId": "f1ac29f5-9ae2-4af8-ea3f-babb8124f96d"
      },
      "outputs": [
        {
          "output_type": "execute_result",
          "data": {
            "text/plain": [
              "(array([27,  0,  8, 19,  2,  7,  8, 10, 14,  5,  5, 57, 57, 57, 57, 57, 57,\n",
              "        57, 57]), 17, 10)"
            ]
          },
          "metadata": {},
          "execution_count": 19
        }
      ],
      "source": [
        "test_data[0]"
      ]
    },
    {
      "cell_type": "markdown",
      "metadata": {
        "id": "jDJiXXMjHJXP"
      },
      "source": [
        "# Train the model"
      ]
    },
    {
      "cell_type": "markdown",
      "metadata": {
        "id": "a1RJGVYrHJXP"
      },
      "source": [
        "Training will be faster if you use the Colab GPU. If it's not already enabled, do so with Runtime -> Change runtime type."
      ]
    },
    {
      "cell_type": "code",
      "execution_count": null,
      "metadata": {
        "id": "0SbzQeUIHJXP"
      },
      "outputs": [],
      "source": [
        "def build_batch(dataset, indices):\n",
        "    '''\n",
        "    Helper function for creating a batch during training. Builds a batch \n",
        "    of source and target elements from the dataset. See the next cell for \n",
        "    when and how it's used. \n",
        "    \n",
        "    Arguments:\n",
        "        dataset: List[db_element] -- A list of dataset elements\n",
        "        indices: List[int] -- A list of indices of the dataset to sample\n",
        "    Returns:\n",
        "        batch_input: List[List[int]] -- List of tensorized names\n",
        "        batch_target: List[int] -- List of numerical categories\n",
        "        batch_indices: List[int] -- List of starting indices of padding\n",
        "    '''\n",
        "    # Recover what the entries for the batch are\n",
        "    batch = [dataset[i] for i in indices]\n",
        "    batch_input = np.array(list(zip(*batch))[0])\n",
        "    batch_target = np.array(list(zip(*batch))[1])\n",
        "    batch_indices = np.array(list(zip(*batch))[2])\n",
        "    return batch_input, batch_target, batch_indices # lines, categories"
      ]
    },
    {
      "cell_type": "code",
      "execution_count": null,
      "metadata": {
        "id": "JPlp0kA-HJXP",
        "colab": {
          "base_uri": "https://localhost:8080/"
        },
        "outputId": "f07d8b56-17ac-4774-e790-6f2e3e8ed8bd"
      },
      "outputs": [
        {
          "output_type": "execute_result",
          "data": {
            "text/plain": [
              "(array([[48, 14, 14,  3,  5, 14, 17,  3, 57, 57, 57, 57, 57, 57, 57, 57,\n",
              "         57, 57, 57],\n",
              "        [30, 11,  0, 13,  2,  7,  8, 10, 57, 57, 57, 57, 57, 57, 57, 57,\n",
              "         57, 57, 57],\n",
              "        [26,  1,  3, 17,  0, 25,  0, 10, 14,  5,  5, 57, 57, 57, 57, 57,\n",
              "         57, 57, 57]]), array([ 3, 17, 17]), array([ 7,  7, 10]))"
            ]
          },
          "metadata": {},
          "execution_count": 21
        }
      ],
      "source": [
        "build_batch(train_data, [1, 2, 3])"
      ]
    },
    {
      "cell_type": "markdown",
      "metadata": {
        "id": "Z37ZdddBHJXP"
      },
      "source": [
        "**Adjust the hyperparameters listed below** to train an RNN with a minimum evaluation accuracy of 80% after 20 epochs. Your score will be graded on a linear scale, ranging from 0 to the maximum score, as the validation accuracy achieved after the last epoch changes from 70% to 80% (i.e., you get 0 if the accuracy is less than 70%, and get the full score if the accuracy is greater than 80% for this autograding item)."
      ]
    },
    {
      "cell_type": "code",
      "execution_count": null,
      "metadata": {
        "id": "sV6Bt307HJXP",
        "colab": {
          "base_uri": "https://localhost:8080/"
        },
        "outputId": "0ce3463c-2471-4c2d-97a7-9c1ddfb353b1"
      },
      "outputs": [
        {
          "output_type": "stream",
          "name": "stdout",
          "text": [
            "You are using cuda for training\n"
          ]
        }
      ],
      "source": [
        "criterion = nn.CrossEntropyLoss()\n",
        "\n",
        "# The build_batch function outputs numpy, but our model is built in pytorch,\n",
        "# so we need to convert numpy to pytorch with the correct types. \n",
        "batch_to_torch = lambda b_in,b_target,b_mask: (torch.tensor(b_in).long(),\n",
        "                                               torch.tensor(b_target).long(), \n",
        "                                               torch.tensor(b_mask).long())\n",
        "\n",
        "############################################################################\n",
        "# TODO: Tune these hyperparameters for a better performance\n",
        "############################################################################\n",
        "hidden_size = 64\n",
        "num_layers = 10\n",
        "dropout = 0\n",
        "optimizer_class = optim.Adam\n",
        "lr = 1e-3\n",
        "batch_size = 256\n",
        "############################################################################\n",
        "\n",
        "# Do not change the number of epochs\n",
        "epochs = 20\n",
        "\n",
        "device = torch.device(\"cuda\" if torch.cuda.is_available() else \"cpu\")\n",
        "print(\"You are using\", device, \"for training\")\n",
        "list_to_device = lambda th_obj: [tensor.to(device) for tensor in th_obj]"
      ]
    },
    {
      "cell_type": "code",
      "execution_count": null,
      "metadata": {
        "id": "uIYds7V0HJXQ"
      },
      "outputs": [],
      "source": [
        "# Optional\n",
        "# lstm_model = RecurrentClassifier(vocab_size=vocab_size, rnn_size=hidden_size, n_categories=n_categories, num_layers=num_layers, dropout=dropout, model_type='lstm')\n",
        "# lstm_optimizer = optimizer_class(lstm_model.parameters(), lr=lr)"
      ]
    },
    {
      "cell_type": "code",
      "execution_count": null,
      "metadata": {
        "id": "BRSBaNZCHJXQ"
      },
      "outputs": [],
      "source": [
        "seed = 1998\n",
        "random.seed(seed)\n",
        "np.random.seed(seed)\n",
        "torch.manual_seed(seed)\n",
        "rnn_model = RecurrentClassifier(vocab_size=vocab_size, rnn_size=hidden_size, n_categories=n_categories, num_layers=num_layers, dropout=dropout, model_type='rnn')\n",
        "rnn_optimizer = optimizer_class(rnn_model.parameters(), lr=lr)"
      ]
    },
    {
      "cell_type": "code",
      "execution_count": null,
      "metadata": {
        "id": "F-T9xgGRHJXQ"
      },
      "outputs": [],
      "source": [
        "def train(model, optimizer, criterion, epochs, batch_size, seed):\n",
        "    model.to(device)\n",
        "    model.train()\n",
        "    train_losses = []\n",
        "    train_accuracies = []\n",
        "    eval_accuracies = []\n",
        "    for epoch in range(epochs):\n",
        "        random.seed(seed + epoch)\n",
        "        np.random.seed(seed + epoch)\n",
        "        torch.manual_seed(seed + epoch)\n",
        "        indices = np.random.permutation(range(len(train_data)))\n",
        "        n_correct, n_total = 0, 0\n",
        "        progress_bar = tqdm(range(0, (len(train_data) // batch_size) + 1))\n",
        "        for i in progress_bar:\n",
        "            batch = build_batch(train_data, indices[i*batch_size:(i+1)*batch_size])\n",
        "            (batch_input, batch_target, batch_indices) = batch_to_torch(*batch)\n",
        "            (batch_input, batch_target, batch_indices) = list_to_device((batch_input, batch_target, batch_indices))\n",
        "\n",
        "            logits = model(batch_input, batch_indices)\n",
        "            loss = criterion(logits, batch_target)\n",
        "            train_losses.append(loss.item())\n",
        "\n",
        "            predictions = logits.argmax(dim=-1)\n",
        "            n_correct += (predictions == batch_target).sum().item()\n",
        "            n_total += batch_target.size(0)\n",
        "\n",
        "            optimizer.zero_grad()\n",
        "            loss.backward()\n",
        "            optimizer.step()\n",
        "\n",
        "            if (i + 1) % 10 == 0:\n",
        "                progress_bar.set_description(f\"Epoch: {epoch}  Iteration: {i}  Loss: {np.mean(train_losses[-10:])}\")\n",
        "        train_accuracies.append(n_correct / n_total * 100)\n",
        "        print(f\"Epoch: {epoch}  Train Accuracy: {n_correct / n_total * 100}\")\n",
        "\n",
        "        with torch.no_grad():\n",
        "            indices = list(range(len(test_data)))\n",
        "            n_correct, n_total = 0, 0\n",
        "            for i in range(0, (len(test_data) // batch_size) + 1):\n",
        "                batch = build_batch(test_data, indices[i*batch_size:(i+1)*batch_size])\n",
        "                (batch_input, batch_target, batch_indices) = batch_to_torch(*batch)\n",
        "                (batch_input, batch_target, batch_indices) = list_to_device((batch_input, batch_target, batch_indices))\n",
        "\n",
        "                logits = model(batch_input, batch_indices)\n",
        "                predictions = logits.argmax(dim=-1)\n",
        "                n_correct += (predictions == batch_target).sum().item()\n",
        "                n_total += batch_target.size(0)\n",
        "            eval_accuracies.append(n_correct / n_total * 100)\n",
        "            print(f\"Epoch: {epoch}  Eval Accuracy: {n_correct / n_total * 100}\")\n",
        "    \n",
        "    to_save = {\n",
        "        \"history\": {\n",
        "            \"train_losses\": train_losses,\n",
        "            \"train_accuracies\": train_accuracies,\n",
        "            \"eval_accuracies\": eval_accuracies,\n",
        "        },\n",
        "        \"hparams\": {\n",
        "            \"hidden_size\": hidden_size,\n",
        "            \"num_layers\": num_layers,\n",
        "            \"dropout\": dropout,\n",
        "            \"optimizer_class\": optimizer_class.__name__,\n",
        "            \"lr\": lr,\n",
        "            \"batch_size\": batch_size,\n",
        "            \"epochs\": epochs,\n",
        "            \"seed\": seed\n",
        "        },\n",
        "        \"model\": [\n",
        "            (name, list(param.shape))\n",
        "            for name, param in rnn_model.named_parameters()\n",
        "        ]\n",
        "    }\n",
        "    return to_save"
      ]
    },
    {
      "cell_type": "code",
      "execution_count": null,
      "metadata": {
        "id": "M-Hzdc0KHJXQ",
        "colab": {
          "base_uri": "https://localhost:8080/"
        },
        "outputId": "92cf3b58-3dec-4db9-f243-53ca7cac4e24"
      },
      "outputs": [
        {
          "output_type": "stream",
          "name": "stderr",
          "text": [
            "Epoch: 0  Iteration: 59  Loss: 1.750168240070343: 100%|██████████| 63/63 [00:04<00:00, 13.33it/s]\n"
          ]
        },
        {
          "output_type": "stream",
          "name": "stdout",
          "text": [
            "Epoch: 0  Train Accuracy: 46.397658633787906\n",
            "Epoch: 0  Eval Accuracy: 47.72104607721046\n"
          ]
        },
        {
          "output_type": "stream",
          "name": "stderr",
          "text": [
            "Epoch: 1  Iteration: 59  Loss: 1.6119827032089233: 100%|██████████| 63/63 [00:03<00:00, 18.27it/s]\n"
          ]
        },
        {
          "output_type": "stream",
          "name": "stdout",
          "text": [
            "Epoch: 1  Train Accuracy: 49.64194532660813\n",
            "Epoch: 1  Eval Accuracy: 51.980074719800754\n"
          ]
        },
        {
          "output_type": "stream",
          "name": "stderr",
          "text": [
            "Epoch: 2  Iteration: 59  Loss: 1.4312041401863098: 100%|██████████| 63/63 [00:02<00:00, 21.82it/s]\n"
          ]
        },
        {
          "output_type": "stream",
          "name": "stdout",
          "text": [
            "Epoch: 2  Train Accuracy: 56.13051871224858\n",
            "Epoch: 2  Eval Accuracy: 58.13200498132005\n"
          ]
        },
        {
          "output_type": "stream",
          "name": "stderr",
          "text": [
            "Epoch: 3  Iteration: 59  Loss: 1.2901561856269836: 100%|██████████| 63/63 [00:02<00:00, 21.98it/s]\n"
          ]
        },
        {
          "output_type": "stream",
          "name": "stdout",
          "text": [
            "Epoch: 3  Train Accuracy: 60.975154119185504\n",
            "Epoch: 3  Eval Accuracy: 61.992528019925274\n"
          ]
        },
        {
          "output_type": "stream",
          "name": "stderr",
          "text": [
            "Epoch: 4  Iteration: 59  Loss: 1.1744958698749541: 100%|██████████| 63/63 [00:02<00:00, 21.59it/s]\n"
          ]
        },
        {
          "output_type": "stream",
          "name": "stdout",
          "text": [
            "Epoch: 4  Train Accuracy: 64.33152749237188\n",
            "Epoch: 4  Eval Accuracy: 66.57534246575342\n"
          ]
        },
        {
          "output_type": "stream",
          "name": "stderr",
          "text": [
            "Epoch: 5  Iteration: 59  Loss: 1.057094794511795: 100%|██████████| 63/63 [00:03<00:00, 17.95it/s]\n"
          ]
        },
        {
          "output_type": "stream",
          "name": "stdout",
          "text": [
            "Epoch: 5  Train Accuracy: 70.09776449343047\n",
            "Epoch: 5  Eval Accuracy: 70.70983810709838\n"
          ]
        },
        {
          "output_type": "stream",
          "name": "stderr",
          "text": [
            "Epoch: 6  Iteration: 59  Loss: 0.9223935604095459: 100%|██████████| 63/63 [00:02<00:00, 22.53it/s]\n"
          ]
        },
        {
          "output_type": "stream",
          "name": "stdout",
          "text": [
            "Epoch: 6  Train Accuracy: 73.03692633414285\n",
            "Epoch: 6  Eval Accuracy: 72.80199252801992\n"
          ]
        },
        {
          "output_type": "stream",
          "name": "stderr",
          "text": [
            "Epoch: 7  Iteration: 59  Loss: 0.8729688823223114: 100%|██████████| 63/63 [00:02<00:00, 21.67it/s]\n"
          ]
        },
        {
          "output_type": "stream",
          "name": "stdout",
          "text": [
            "Epoch: 7  Train Accuracy: 75.21638956348465\n",
            "Epoch: 7  Eval Accuracy: 74.19676214196762\n"
          ]
        },
        {
          "output_type": "stream",
          "name": "stderr",
          "text": [
            "Epoch: 8  Iteration: 59  Loss: 0.8017945885658264: 100%|██████████| 63/63 [00:02<00:00, 21.50it/s]\n"
          ]
        },
        {
          "output_type": "stream",
          "name": "stdout",
          "text": [
            "Epoch: 8  Train Accuracy: 76.96618718475621\n",
            "Epoch: 8  Eval Accuracy: 75.39227895392278\n"
          ]
        },
        {
          "output_type": "stream",
          "name": "stderr",
          "text": [
            "Epoch: 9  Iteration: 59  Loss: 0.7581024646759034: 100%|██████████| 63/63 [00:03<00:00, 17.53it/s]\n"
          ]
        },
        {
          "output_type": "stream",
          "name": "stdout",
          "text": [
            "Epoch: 9  Train Accuracy: 78.09328102621583\n",
            "Epoch: 9  Eval Accuracy: 76.2640099626401\n"
          ]
        },
        {
          "output_type": "stream",
          "name": "stderr",
          "text": [
            "Epoch: 10  Iteration: 59  Loss: 0.7344662427902222: 100%|██████████| 63/63 [00:02<00:00, 21.80it/s]\n"
          ]
        },
        {
          "output_type": "stream",
          "name": "stdout",
          "text": [
            "Epoch: 10  Train Accuracy: 79.11451522510743\n",
            "Epoch: 10  Eval Accuracy: 76.73723536737236\n"
          ]
        },
        {
          "output_type": "stream",
          "name": "stderr",
          "text": [
            "Epoch: 11  Iteration: 59  Loss: 0.6905085027217865: 100%|██████████| 63/63 [00:02<00:00, 22.18it/s]\n"
          ]
        },
        {
          "output_type": "stream",
          "name": "stdout",
          "text": [
            "Epoch: 11  Train Accuracy: 79.73721900491935\n",
            "Epoch: 11  Eval Accuracy: 76.73723536737236\n"
          ]
        },
        {
          "output_type": "stream",
          "name": "stderr",
          "text": [
            "Epoch: 12  Iteration: 59  Loss: 0.7085594296455383: 100%|██████████| 63/63 [00:02<00:00, 21.55it/s]\n"
          ]
        },
        {
          "output_type": "stream",
          "name": "stdout",
          "text": [
            "Epoch: 12  Train Accuracy: 80.23538202876892\n",
            "Epoch: 12  Eval Accuracy: 77.55915317559153\n"
          ]
        },
        {
          "output_type": "stream",
          "name": "stderr",
          "text": [
            "Epoch: 13  Iteration: 59  Loss: 0.6591861218214035: 100%|██████████| 63/63 [00:03<00:00, 18.94it/s]\n"
          ]
        },
        {
          "output_type": "stream",
          "name": "stdout",
          "text": [
            "Epoch: 13  Train Accuracy: 80.98885360234136\n",
            "Epoch: 13  Eval Accuracy: 77.45952677459526\n"
          ]
        },
        {
          "output_type": "stream",
          "name": "stderr",
          "text": [
            "Epoch: 14  Iteration: 59  Loss: 0.6106729447841645: 100%|██████████| 63/63 [00:02<00:00, 22.13it/s]\n"
          ]
        },
        {
          "output_type": "stream",
          "name": "stdout",
          "text": [
            "Epoch: 14  Train Accuracy: 81.5119247773834\n",
            "Epoch: 14  Eval Accuracy: 78.08219178082192\n"
          ]
        },
        {
          "output_type": "stream",
          "name": "stderr",
          "text": [
            "Epoch: 15  Iteration: 59  Loss: 0.6008194148540497: 100%|██████████| 63/63 [00:02<00:00, 21.94it/s]\n"
          ]
        },
        {
          "output_type": "stream",
          "name": "stdout",
          "text": [
            "Epoch: 15  Train Accuracy: 82.42107229590884\n",
            "Epoch: 15  Eval Accuracy: 77.90784557907845\n"
          ]
        },
        {
          "output_type": "stream",
          "name": "stderr",
          "text": [
            "Epoch: 16  Iteration: 59  Loss: 0.562064915895462: 100%|██████████| 63/63 [00:03<00:00, 20.41it/s]\n"
          ]
        },
        {
          "output_type": "stream",
          "name": "stdout",
          "text": [
            "Epoch: 16  Train Accuracy: 82.91923531975839\n",
            "Epoch: 16  Eval Accuracy: 78.55541718555418\n"
          ]
        },
        {
          "output_type": "stream",
          "name": "stderr",
          "text": [
            "Epoch: 17  Iteration: 59  Loss: 0.5299679309129715: 100%|██████████| 63/63 [00:03<00:00, 19.56it/s]\n"
          ]
        },
        {
          "output_type": "stream",
          "name": "stdout",
          "text": [
            "Epoch: 17  Train Accuracy: 83.63534466654212\n",
            "Epoch: 17  Eval Accuracy: 78.65504358655043\n"
          ]
        },
        {
          "output_type": "stream",
          "name": "stderr",
          "text": [
            "Epoch: 18  Iteration: 59  Loss: 0.524512329697609: 100%|██████████| 63/63 [00:02<00:00, 22.77it/s]\n"
          ]
        },
        {
          "output_type": "stream",
          "name": "stdout",
          "text": [
            "Epoch: 18  Train Accuracy: 84.41995142910518\n",
            "Epoch: 18  Eval Accuracy: 78.9041095890411\n"
          ]
        },
        {
          "output_type": "stream",
          "name": "stderr",
          "text": [
            "Epoch: 19  Iteration: 59  Loss: 0.5050805479288101: 100%|██████████| 63/63 [00:02<00:00, 21.94it/s]\n"
          ]
        },
        {
          "output_type": "stream",
          "name": "stdout",
          "text": [
            "Epoch: 19  Train Accuracy: 84.66903294102995\n",
            "Epoch: 19  Eval Accuracy: 78.63013698630137\n"
          ]
        }
      ],
      "source": [
        "rnn_log = train(rnn_model, rnn_optimizer, criterion, epochs, batch_size, 1997)"
      ]
    },
    {
      "cell_type": "code",
      "execution_count": null,
      "metadata": {
        "id": "TSBoqEbMHJXR",
        "colab": {
          "base_uri": "https://localhost:8080/",
          "height": 295
        },
        "outputId": "43606bc3-3945-413f-a3d8-c167e4c3a1bb"
      },
      "outputs": [
        {
          "output_type": "display_data",
          "data": {
            "text/plain": [
              "<Figure size 432x288 with 1 Axes>"
            ],
            "image/png": "[encoded data removed]"
          },
          "metadata": {
            "needs_background": "light"
          }
        }
      ],
      "source": [
        "n_steps = len(rnn_log[\"history\"][\"train_losses\"])\n",
        "plt.plot(range(n_steps), rnn_log[\"history\"][\"train_losses\"], alpha=0.4, color=\"blue\")\n",
        "moving_avg = np.convolve(np.array(rnn_log[\"history\"][\"train_losses\"]), np.ones(10), 'valid') / 10\n",
        "plt.plot(range(9, n_steps), moving_avg.tolist(), color=\"blue\")\n",
        "plt.xlabel(\"Iterations\")\n",
        "plt.title(\"RNN Training Loss\")\n",
        "plt.show()"
      ]
    },
    {
      "cell_type": "code",
      "execution_count": null,
      "metadata": {
        "id": "0Vbnz6X9HJXR",
        "colab": {
          "base_uri": "https://localhost:8080/",
          "height": 295
        },
        "outputId": "06946503-e40e-41fb-c1d9-82f614daf298"
      },
      "outputs": [
        {
          "output_type": "display_data",
          "data": {
            "text/plain": [
              "<Figure size 432x288 with 1 Axes>"
            ],
            "image/png": "[encoded data removed]"
          },
          "metadata": {
            "needs_background": "light"
          }
        }
      ],
      "source": [
        "plt.plot(rnn_log[\"history\"][\"train_accuracies\"], marker='o')\n",
        "plt.xlabel(\"Epochs\")\n",
        "plt.title(\"RNN Training Accuracy\")\n",
        "plt.show()"
      ]
    },
    {
      "cell_type": "code",
      "execution_count": null,
      "metadata": {
        "id": "ALqdqb_fHJXR",
        "colab": {
          "base_uri": "https://localhost:8080/"
        },
        "outputId": "26eca2f8-c069-4ab9-cb0f-217fc83d83aa"
      },
      "outputs": [
        {
          "output_type": "display_data",
          "data": {
            "text/plain": [
              "<Figure size 432x288 with 1 Axes>"
            ],
            "image/png": "[encoded data removed]"
          },
          "metadata": {
            "needs_background": "light"
          }
        }
      ],
      "source": [
        "plt.plot(rnn_log[\"history\"][\"eval_accuracies\"], marker='o')\n",
        "plt.xlabel(\"Epochs\")\n",
        "plt.title(\"RNN Eval Accuracy\")\n",
        "plt.show()"
      ]
    },
    {
      "cell_type": "code",
      "execution_count": null,
      "metadata": {
        "id": "RzdvuDW9HJXR"
      },
      "outputs": [],
      "source": [
        "# Optional\n",
        "# train(lstm_model, lstm_optimizer, criterion, epochs, batch_size, 1997)"
      ]
    },
    {
      "cell_type": "markdown",
      "metadata": {
        "id": "2zZzDrTZHJXR"
      },
      "source": [
        "## Use Your RNN: Try Your Own Name\n",
        "\n",
        "Attempt to use the code cells below to **predict the origin of your own last name**.\n",
        "\n",
        "Please refrain from entering the last names of your classmates, as the names you enter will be logged for anti-plagiarism purposes."
      ]
    },
    {
      "cell_type": "code",
      "execution_count": null,
      "metadata": {
        "id": "_c5LNYNEHJXR"
      },
      "outputs": [],
      "source": [
        "def classify_name(name, model):\n",
        "    '''\n",
        "    Numerize the name and return the most likely number representation of the \n",
        "    predicted class.\n",
        "    '''\n",
        "    # change this if your last name is longer than 19 characters\n",
        "    token = np.ones(19, dtype=np.int64) * pad\n",
        "    numerized = np.array([letterToIndex(l) for l in name])\n",
        "    n = len(numerized)\n",
        "    token[:n] = numerized\n",
        "    print(token)\n",
        "    logits = model(\n",
        "        torch.tensor(token, dtype=torch.long)[None, :],\n",
        "        torch.tensor([n - 1], dtype=torch.long)\n",
        "    )\n",
        "    return logits.argmax(dim=-1).item()"
      ]
    },
    {
      "cell_type": "code",
      "execution_count": null,
      "metadata": {
        "id": "_3o_Z7PzHJXR",
        "colab": {
          "base_uri": "https://localhost:8080/"
        },
        "outputId": "45e5f71e-ea61-4b06-f447-dba2f7a0d1a1"
      },
      "outputs": [
        {
          "output_type": "stream",
          "name": "stdout",
          "text": [
            "Predicting origin language for name: Kin\n",
            "[36  8 13 57 57 57 57 57 57 57 57 57 57 57 57 57 57 57 57]\n",
            "Chinese\n"
          ]
        }
      ],
      "source": [
        "model = rnn_model\n",
        "model.eval()\n",
        "model.cpu()\n",
        "############################################################################\n",
        "# TODO: Enter your last name\n",
        "############################################################################\n",
        "name = \"Kin\"\n",
        "############################################################################\n",
        "rnn_log[\"last_name\"] = name\n",
        "rnn_log[\"source_init\"] = inspect.getsource(RecurrentClassifier.__init__)\n",
        "rnn_log[\"source_forward\"] = inspect.getsource(RecurrentClassifier.forward)\n",
        "print(\"Predicting origin language for name: \"+ name)\n",
        "c = classify_name(name, model)\n",
        "print(num_to_cat[c])"
      ]
    },
    {
      "cell_type": "code",
      "execution_count": null,
      "metadata": {
        "id": "uhTGAwbDHJXR"
      },
      "outputs": [],
      "source": [
        "with open(\"submission_log.json\", \"w\", encoding=\"utf-8\") as f:\n",
        "    json.dump(rnn_log, f)"
      ]
    },
    {
      "cell_type": "markdown",
      "metadata": {
        "id": "RaC1HFHFHJXS"
      },
      "source": [
        "## All done\n",
        "\n",
        "You are done with this coding assignment. Please download `submission_log.json` and submit it to Gradescope.\n"
      ]
    },
    {
      "cell_type": "markdown",
      "metadata": {
        "id": "6l9RO9LBHJXS"
      },
      "source": [
        "### Question\n",
        "\n",
        "Although the neural network you have trained is intended to predict the language of origin for a given last name, it could potentially be misused. **In what ways do you think this could be problematic in real-world applications?** Include your answer in your submission of the written assignment."
      ]
    }
  ],
  "metadata": {
    "language_info": {
      "name": "python"
    },
    "colab": {
      "provenance": [],
      "include_colab_link": true
    },
    "kernelspec": {
      "name": "python3",
      "display_name": "Python 3"
    },
    "gpuClass": "standard",
    "accelerator": "GPU"
  },
  "nbformat": 4,
  "nbformat_minor": 0
}